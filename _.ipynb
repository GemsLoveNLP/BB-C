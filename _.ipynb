{
 "cells": [
  {
   "cell_type": "code",
   "execution_count": 13,
   "metadata": {},
   "outputs": [],
   "source": [
    "import numpy as np\n",
    "import random as rd\n",
    "import math"
   ]
  },
  {
   "cell_type": "code",
   "execution_count": 14,
   "metadata": {},
   "outputs": [],
   "source": [
    "orientation_list = [ [[1,0],[0,1]], [[0,1],[-1,0]], [[-1,0],[0,-1]], [[0,-1],[1,0]] ] \n",
    "shift_dict = { \"L\": [[0,0], [1,0], [1,-1], [0,-1]], \"D\": [[0,0], [2,0], [1,-1], [0,-1]]}\n",
    "\n",
    "def transform_hole(hole, orientation, piece):    \n",
    "    matrix = np.array(orientation_list[orientation])\n",
    "    vector = np.array(list(hole))\n",
    "    rotated = np.matmul(matrix, vector)\n",
    "    shift_array = np.array(shift_dict[piece][orientation])\n",
    "    return list(rotated + shift_array)\n",
    "\n",
    "def draw(l):\n",
    "    size = len(l)\n",
    "    s = \"\"\n",
    "    s+=\"-\"*(4*size+1)\n",
    "    s+=\"\\n\"\n",
    "    for i in range(size):\n",
    "        s+=\"|\"\n",
    "        for j in range(size):\n",
    "            s+=\" \"\n",
    "            s+=str(l[i][j])\n",
    "            s+=\" |\"\n",
    "        s+=\"\\n\"\n",
    "        s+=\"-\"*(4*size+1)\n",
    "        s+=\"\\n\"\n",
    "    return s\n",
    "\n",
    "class block:\n",
    "    def __init__(self, piece, height, width, tall, orientation=1, holes=[]):\n",
    "        self.piece = piece\n",
    "        self.height = height\n",
    "        self.width = width\n",
    "        self.tall = tall\n",
    "        self.holes = holes #list of holes, each hole is a list of [y,x]\n",
    "        self.orientation = orientation #num of possible oreintation\n",
    "\n",
    "    def area(self):\n",
    "        return self.height*self.width\n",
    "    \n",
    "def setup():\n",
    "    # pieces\n",
    "    global L, T, I, F\n",
    "    L = block(\"L\",2,2,2,4,[[0,1]])\n",
    "    T = block(\"T\",2,3,2,4,[[0,1],[2,1]])\n",
    "    I = block(\"I\",2,1,2,2,[])\n",
    "    F = block(\"F\",2,2,2,1,[])\n",
    "    #  constants\n",
    "    global threshold\n",
    "    threshold = 50\n",
    "\n",
    "class slot:\n",
    "    def __init__(self, piece='d'):\n",
    "        self.piece = piece  \n",
    "\n",
    "    def change_piece(self, new_piece):\n",
    "        self.piece = new_piece\n",
    "\n",
    "def generate_board(board_size):\n",
    "    board_ = []\n",
    "    for i in range(board_size):\n",
    "        board_.append([slot() for i in range(board_size)])\n",
    "    return board_\n",
    "\n",
    "def transform(array):\n",
    "    l = []\n",
    "    for i in array:\n",
    "        temp = []\n",
    "        for j in i:\n",
    "            temp.append(slot(j))\n",
    "        l.append(temp)\n",
    "    return np.array(l)\n",
    "\n",
    "\n",
    "class game_board:\n",
    "    def __init__(self, auto=True, array=np.array([]), size=4):\n",
    "        if not auto:\n",
    "            self.board = transform(array)\n",
    "        else:\n",
    "            self.board = generate_board(size)\n",
    "        self.size=size\n",
    "\n",
    "    def __str__(self):\n",
    "        view = []\n",
    "        for row in self.board:\n",
    "            temp = []\n",
    "            for obj in row:\n",
    "                temp.append(obj.piece)\n",
    "            view.append(temp)\n",
    "        return draw(view)\n",
    "    \n",
    "    def clear(self):\n",
    "        self.board = generate_board(self.size)\n",
    "    \n",
    "    def set_piece(self, row, col, piece):\n",
    "        self.board[row][col].change_piece(piece)\n",
    "\n",
    "    def check_fit(self, height, width, row, col, hole=[]):\n",
    "        true_hole = [(i+row, j+col) for i,j in hole]\n",
    "        for y in range(height):\n",
    "            for x in range(width):\n",
    "                if row+y>=self.size or col+x>=self.size:\n",
    "                    return False\n",
    "                else:\n",
    "                    if (row+y, col+x) not in true_hole:\n",
    "                        if self.board[row+y][col+x].piece != 'd':\n",
    "                            return False\n",
    "        return True\n",
    "\n",
    "    def place_block(self, height, width, row, col, piece, hole=[]):\n",
    "        true_hole = [(i+row, j+col) for i,j in hole]\n",
    "        for y in range(height):\n",
    "            for x in range(width):\n",
    "                if (row+y, col+x) not in true_hole and row+y<self.size and col+x<self.size:\n",
    "                    self.set_piece(row+y,col+x,piece)\n",
    "\n",
    "    def randomize(self, piece: block):\n",
    "        r = rd.randint(0,self.size)\n",
    "        c = rd.randint(0,self.size)\n",
    "        o = rd.randint(0,piece.orientation-1)\n",
    "        holes = []\n",
    "        for old_hole in piece.holes:\n",
    "            holes.append(transform_hole(old_hole, o, piece.piece))\n",
    "        if self.check_fit(piece.height, piece.width, r, c, holes):\n",
    "            self.place_block(piece.height, piece.width, r, c, piece.piece, holes)\n",
    "            print(f\"randomize() --> success (r,c,o) = ({r},{c},{o})\")\n",
    "            return True\n",
    "        else:\n",
    "            print(f\"randomize() --> Failed (r,c,o) = ({r},{c},{o})\")\n",
    "            return False\n",
    "\n",
    "    def randomize_pieces(self, pieces):\n",
    "        new_list = sorted([[piece.area()-len(piece.holes), piece.piece, piece] for piece in pieces], reverse=True)\n",
    "        for area, name, piece in new_list:\n",
    "            for i in range(threshold):\n",
    "                if self.randomize(piece):\n",
    "                    print(f\"randomize_pieces --> success {piece.piece}\")\n",
    "                    break   "
   ]
  },
  {
   "attachments": {},
   "cell_type": "markdown",
   "metadata": {},
   "source": [
    "Playground"
   ]
  },
  {
   "cell_type": "code",
   "execution_count": 31,
   "metadata": {},
   "outputs": [],
   "source": [
    "main = game_board()\n",
    "setup()"
   ]
  },
  {
   "cell_type": "code",
   "execution_count": 34,
   "metadata": {},
   "outputs": [
    {
     "name": "stdout",
     "output_type": "stream",
     "text": [
      "-----------------\n",
      "| d | L | L | d |\n",
      "-----------------\n",
      "| d | L | L | d |\n",
      "-----------------\n",
      "| F | F | I | d |\n",
      "-----------------\n",
      "| F | F | I | d |\n",
      "-----------------\n",
      "\n"
     ]
    }
   ],
   "source": [
    "print(main)"
   ]
  },
  {
   "cell_type": "code",
   "execution_count": 50,
   "metadata": {},
   "outputs": [
    {
     "name": "stdout",
     "output_type": "stream",
     "text": [
      "randomize() --> success (r,c,o) = (0,3,1)\n",
      "-----------------\n",
      "| d | L | L | I |\n",
      "-----------------\n",
      "| d | L | L | I |\n",
      "-----------------\n",
      "| F | F | I | d |\n",
      "-----------------\n",
      "| F | F | I | d |\n",
      "-----------------\n",
      "\n"
     ]
    }
   ],
   "source": [
    "main.randomize(I)\n",
    "print(main)"
   ]
  },
  {
   "cell_type": "code",
   "execution_count": 33,
   "metadata": {},
   "outputs": [
    {
     "name": "stdout",
     "output_type": "stream",
     "text": [
      "randomize() --> Failed (r,c,o) = (4,3,1)\n",
      "randomize() --> Failed (r,c,o) = (4,2,0)\n",
      "randomize() --> Failed (r,c,o) = (4,1,2)\n",
      "randomize() --> success (r,c,o) = (0,1,1)\n",
      "randomize_pieces --> success L\n",
      "randomize() --> Failed (r,c,o) = (4,1,0)\n",
      "randomize() --> Failed (r,c,o) = (4,3,0)\n",
      "randomize() --> Failed (r,c,o) = (1,3,0)\n",
      "randomize() --> Failed (r,c,o) = (0,1,0)\n",
      "randomize() --> Failed (r,c,o) = (1,0,0)\n",
      "randomize() --> Failed (r,c,o) = (4,0,0)\n",
      "randomize() --> Failed (r,c,o) = (2,3,0)\n",
      "randomize() --> Failed (r,c,o) = (0,2,0)\n",
      "randomize() --> Failed (r,c,o) = (4,0,0)\n",
      "randomize() --> Failed (r,c,o) = (0,2,0)\n",
      "randomize() --> Failed (r,c,o) = (4,3,0)\n",
      "randomize() --> Failed (r,c,o) = (1,3,0)\n",
      "randomize() --> Failed (r,c,o) = (1,3,0)\n",
      "randomize() --> Failed (r,c,o) = (1,1,0)\n",
      "randomize() --> Failed (r,c,o) = (4,2,0)\n",
      "randomize() --> Failed (r,c,o) = (3,4,0)\n",
      "randomize() --> Failed (r,c,o) = (0,4,0)\n",
      "randomize() --> Failed (r,c,o) = (0,1,0)\n",
      "randomize() --> Failed (r,c,o) = (0,3,0)\n",
      "randomize() --> success (r,c,o) = (2,0,0)\n",
      "randomize_pieces --> success F\n",
      "randomize() --> Failed (r,c,o) = (0,1,0)\n",
      "randomize() --> Failed (r,c,o) = (4,3,0)\n",
      "randomize() --> Failed (r,c,o) = (1,4,0)\n",
      "randomize() --> Failed (r,c,o) = (3,1,1)\n",
      "randomize() --> Failed (r,c,o) = (1,1,1)\n",
      "randomize() --> Failed (r,c,o) = (2,0,0)\n",
      "randomize() --> Failed (r,c,o) = (0,1,0)\n",
      "randomize() --> Failed (r,c,o) = (3,0,1)\n",
      "randomize() --> Failed (r,c,o) = (4,2,0)\n",
      "randomize() --> Failed (r,c,o) = (1,4,0)\n",
      "randomize() --> Failed (r,c,o) = (0,1,0)\n",
      "randomize() --> success (r,c,o) = (2,2,0)\n",
      "randomize_pieces --> success I\n"
     ]
    }
   ],
   "source": [
    "main.randomize_pieces([L, F, I])"
   ]
  },
  {
   "cell_type": "code",
   "execution_count": 51,
   "metadata": {},
   "outputs": [],
   "source": [
    "main.clear()"
   ]
  },
  {
   "cell_type": "code",
   "execution_count": 19,
   "metadata": {},
   "outputs": [
    {
     "name": "stdout",
     "output_type": "stream",
     "text": [
      "\n",
      "▣ \n",
      "▣▣\n",
      "\n",
      "▣▣\n",
      "▣ \n",
      "\n",
      "▣▣\n",
      " ▣\n",
      "\n",
      " ▣\n",
      "▣▣\n"
     ]
    }
   ],
   "source": [
    "for i in range(4):\n",
    "    print()\n",
    "    for x in range(2):\n",
    "        print(\"\".join([\"▣\" if transform_hole([0,0],i,\"L\") != [x,y] else \" \" for y in range(-1,1)]))"
   ]
  },
  {
   "cell_type": "code",
   "execution_count": 20,
   "metadata": {},
   "outputs": [
    {
     "name": "stdout",
     "output_type": "stream",
     "text": [
      "[[4, <__main__.block object at 0x000001F38A50BB50>], [2, <__main__.block object at 0x000001F38A50BA60>]]\n"
     ]
    }
   ],
   "source": [
    "L = block(\"L\",2,2,2,[[1,0]],0)\n",
    "R = block(\"R\",2,1,2,[[1,0]],0)\n",
    "\n",
    "pieces = [L, R]\n",
    "new_list = sorted([[piece.area(), piece] for piece in pieces],reverse=True)\n",
    "print(new_list)"
   ]
  },
  {
   "cell_type": "code",
   "execution_count": 21,
   "metadata": {},
   "outputs": [],
   "source": [
    "setup()"
   ]
  },
  {
   "cell_type": "code",
   "execution_count": 22,
   "metadata": {},
   "outputs": [
    {
     "data": {
      "text/plain": [
       "'L'"
      ]
     },
     "execution_count": 22,
     "metadata": {},
     "output_type": "execute_result"
    }
   ],
   "source": [
    "L.piece"
   ]
  },
  {
   "cell_type": "code",
   "execution_count": 23,
   "metadata": {},
   "outputs": [],
   "source": [
    "main = game_board()"
   ]
  },
  {
   "cell_type": "code",
   "execution_count": 24,
   "metadata": {},
   "outputs": [
    {
     "name": "stdout",
     "output_type": "stream",
     "text": [
      "-----------------\n",
      "| d | d | d | d |\n",
      "-----------------\n",
      "| d | d | d | d |\n",
      "-----------------\n",
      "| d | d | d | d |\n",
      "-----------------\n",
      "| d | d | d | d |\n",
      "-----------------\n",
      "\n"
     ]
    }
   ],
   "source": [
    "print(main)"
   ]
  },
  {
   "cell_type": "code",
   "execution_count": 25,
   "metadata": {},
   "outputs": [],
   "source": [
    "main.place_block(2,2,2,2,'f', hole=[(0,1)])"
   ]
  },
  {
   "cell_type": "code",
   "execution_count": 26,
   "metadata": {},
   "outputs": [
    {
     "data": {
      "text/plain": [
       "False"
      ]
     },
     "execution_count": 26,
     "metadata": {},
     "output_type": "execute_result"
    }
   ],
   "source": [
    "main.check_fit(1,1,2,2)"
   ]
  },
  {
   "cell_type": "code",
   "execution_count": 27,
   "metadata": {},
   "outputs": [
    {
     "name": "stdout",
     "output_type": "stream",
     "text": [
      "-----------------\n",
      "| d | d | d | d |\n",
      "-----------------\n",
      "| d | d | d | d |\n",
      "-----------------\n",
      "| d | d | f | d |\n",
      "-----------------\n",
      "| d | d | f | f |\n",
      "-----------------\n",
      "\n"
     ]
    }
   ],
   "source": [
    "print(main)"
   ]
  },
  {
   "cell_type": "code",
   "execution_count": 28,
   "metadata": {},
   "outputs": [],
   "source": [
    "main.clear()"
   ]
  },
  {
   "cell_type": "code",
   "execution_count": 29,
   "metadata": {},
   "outputs": [
    {
     "name": "stdout",
     "output_type": "stream",
     "text": [
      "-----------------\n",
      "| d | d | d | d |\n",
      "-----------------\n",
      "| d | d | d | d |\n",
      "-----------------\n",
      "| d | d | d | d |\n",
      "-----------------\n",
      "| d | d | d | d |\n",
      "-----------------\n",
      "\n"
     ]
    }
   ],
   "source": [
    "print(main)"
   ]
  }
 ],
 "metadata": {
  "kernelspec": {
   "display_name": "base",
   "language": "python",
   "name": "python3"
  },
  "language_info": {
   "codemirror_mode": {
    "name": "ipython",
    "version": 3
   },
   "file_extension": ".py",
   "mimetype": "text/x-python",
   "name": "python",
   "nbconvert_exporter": "python",
   "pygments_lexer": "ipython3",
   "version": "3.9.13"
  },
  "orig_nbformat": 4
 },
 "nbformat": 4,
 "nbformat_minor": 2
}
