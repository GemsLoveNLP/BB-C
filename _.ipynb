{
 "cells": [
  {
   "cell_type": "code",
   "execution_count": null,
   "metadata": {},
   "outputs": [],
   "source": [
    "import numpy as np\n",
    "import random as rd\n",
    "import math"
   ]
  },
  {
   "cell_type": "code",
   "execution_count": null,
   "metadata": {},
   "outputs": [],
   "source": [
    "orientation_list = [ [[1,0],[0,1]], [[0,1],[-1,0]], [[-1,0],[0,-1]], [[0,-1],[1,0]] ] \n",
    "shift_dict = { \"L\": [[0,0], [0,1], [1,1], [1,0]], \"D\": [[0,0], [2,0], [1,-1], [0,-1]]}\n",
    "\n",
    "def transform_hole(hole, orientation, piece):    \n",
    "    matrix = np.array(orientation_list[orientation])\n",
    "    vector = np.array(list(hole))\n",
    "    rotated = np.matmul(matrix, vector)\n",
    "    shift_array = np.array(shift_dict[piece][orientation])\n",
    "    return list(rotated + shift_array)\n",
    "\n",
    "def draw(l):\n",
    "    size = len(l)\n",
    "    s = \"\"\n",
    "    s+=\"-\"*(4*size+1)\n",
    "    s+=\"\\n\"\n",
    "    for i in range(size):\n",
    "        s+=\"|\"\n",
    "        for j in range(size):\n",
    "            s+=\" \"\n",
    "            s+=str(l[i][j])\n",
    "            s+=\" |\"\n",
    "        s+=\"\\n\"\n",
    "        s+=\"-\"*(4*size+1)\n",
    "        s+=\"\\n\"\n",
    "    return s\n",
    "\n",
    "class block:\n",
    "    def __init__(self, piece, height, width, tall, orientation, holes=[]):\n",
    "        self.piece = piece\n",
    "        self.height = height\n",
    "        self.width = width\n",
    "        self.tall = tall\n",
    "        self.holes = holes #list of holes, each hole is a list of [y,x]\n",
    "        self.orientation = orientation #num of possible oreintation\n",
    "\n",
    "    def area(self):\n",
    "        return self.height*self.width\n",
    "    \n",
    "def setup():\n",
    "    # pieces\n",
    "    global L, T, I, F\n",
    "    L = block(\"L\",2,2,2,4,[[1,0]])\n",
    "    T = block(\"T\",2,3,2,4,[[0,1],[2,1]])\n",
    "    I = block(\"I\",2,1,2,2,[])\n",
    "    F = block(\"F\",2,2,2,1,[])\n",
    "    #  constants\n",
    "    global threshold\n",
    "    threshold = 100\n",
    "\n",
    "class slot:\n",
    "    def __init__(self, piece=' '):\n",
    "        self.piece = piece  \n",
    "\n",
    "    def change_piece(self, new_piece):\n",
    "        self.piece = new_piece\n",
    "\n",
    "def generate_board(board_size):\n",
    "    board_ = []\n",
    "    for i in range(board_size):\n",
    "        board_.append([slot() for i in range(board_size)])\n",
    "    return board_\n",
    "\n",
    "def transform(array):\n",
    "    l = []\n",
    "    for i in array:\n",
    "        temp = []\n",
    "        for j in i:\n",
    "            temp.append(slot(j))\n",
    "        l.append(temp)\n",
    "    return np.array(l)\n",
    "\n",
    "\n",
    "class game_board:\n",
    "    def __init__(self, auto=True, array=np.array([]), size=4):\n",
    "        if not auto:\n",
    "            self.board = transform(array)\n",
    "        else:\n",
    "            self.board = generate_board(size)\n",
    "        self.size=size\n",
    "\n",
    "    def __str__(self):\n",
    "        view = []\n",
    "        for row in self.board:\n",
    "            temp = []\n",
    "            for obj in row:\n",
    "                temp.append(obj.piece)\n",
    "            view.append(temp)\n",
    "        return draw(view)\n",
    "    \n",
    "    def clear(self):\n",
    "        self.board = generate_board(self.size)\n",
    "    \n",
    "    def set_piece(self, row, col, piece):\n",
    "        self.board[row][col].change_piece(piece)\n",
    "\n",
    "    def check_fit(self, height, width, row, col, hole=[]):\n",
    "        true_hole = [(i+row, j+col) for i,j in hole]\n",
    "        for y in range(height):\n",
    "            for x in range(width):\n",
    "                if row+y>=self.size or col+x>=self.size:\n",
    "                    return False\n",
    "                else:\n",
    "                    if (row+y, col+x) not in true_hole:\n",
    "                        if self.board[row+y][col+x].piece != ' ':\n",
    "                            return False\n",
    "        return True\n",
    "\n",
    "    def place_block(self, height, width, row, col, piece, hole=[]):\n",
    "        true_hole = [(i+row, j+col) for i,j in hole]\n",
    "        for y in range(height):\n",
    "            for x in range(width):\n",
    "                if (row+y, col+x) not in true_hole and row+y<self.size and col+x<self.size:\n",
    "                    self.set_piece(row+y,col+x,piece)\n",
    "\n",
    "    def randomize(self, piece: block, debug):\n",
    "        r = rd.randint(0,self.size)\n",
    "        c = rd.randint(0,self.size)\n",
    "        o = rd.randint(0,piece.orientation-1)\n",
    "        holes = []\n",
    "        for old_hole in piece.holes:\n",
    "            holes.append(transform_hole(old_hole, o, piece.piece))\n",
    "        if self.check_fit(piece.height, piece.width, r, c, holes):\n",
    "            self.place_block(piece.height, piece.width, r, c, piece.piece, holes)\n",
    "            if debug:\n",
    "                print(f\"randomize() --> success (r,c,o) = ({r},{c},{o})\")\n",
    "            return True\n",
    "        else:\n",
    "            if debug:\n",
    "                print(f\"randomize() --> Failed (r,c,o) = ({r},{c},{o})\")\n",
    "            return False\n",
    "\n",
    "    def randomize_pieces(self, pieces, debug=False):\n",
    "        new_list = sorted([[piece.area()-len(piece.holes), piece.piece, piece] for piece in pieces], reverse=True)\n",
    "        for area, name, piece in new_list:\n",
    "            for i in range(threshold):\n",
    "                if self.randomize(piece,debug):\n",
    "                    if debug:\n",
    "                        print(f\"randomize_pieces --> success {piece.piece}\")\n",
    "                    break  \n",
    "                 "
   ]
  },
  {
   "cell_type": "code",
   "execution_count": null,
   "metadata": {},
   "outputs": [],
   "source": [
    "main = game_board()\n",
    "setup()\n",
    "print(main)\n",
    "for _ in range(10):\n",
    "    main.randomize_pieces([L,F,I])\n",
    "    print(main) \n",
    "    main.clear()"
   ]
  },
  {
   "attachments": {},
   "cell_type": "markdown",
   "metadata": {},
   "source": [
    "Playground"
   ]
  },
  {
   "cell_type": "code",
   "execution_count": null,
   "metadata": {},
   "outputs": [],
   "source": [
    "main = game_board()\n",
    "setup()"
   ]
  },
  {
   "cell_type": "code",
   "execution_count": null,
   "metadata": {},
   "outputs": [],
   "source": [
    "print(main)"
   ]
  },
  {
   "cell_type": "code",
   "execution_count": null,
   "metadata": {},
   "outputs": [],
   "source": [
    "# o = 1\n",
    "\n",
    "# h = L.height\n",
    "# w = L.width\n",
    "# p = L.piece\n",
    "# hole = transform_hole([1,0], o, p)\n",
    "\n",
    "# print(hole)\n",
    "# print(type(hole))\n",
    "# main.place_block(h, w, 2, 2, p, [hole])\n",
    "# print(main)"
   ]
  },
  {
   "cell_type": "code",
   "execution_count": null,
   "metadata": {},
   "outputs": [],
   "source": [
    "# main.randomize(L)\n",
    "# print(main)\n",
    "# print(L.holes)"
   ]
  },
  {
   "cell_type": "code",
   "execution_count": null,
   "metadata": {},
   "outputs": [],
   "source": [
    "main.randomize_pieces([L, F, I])\n",
    "print(main)\n",
    "main.clear()"
   ]
  },
  {
   "cell_type": "code",
   "execution_count": null,
   "metadata": {},
   "outputs": [],
   "source": [
    "main.clear()"
   ]
  },
  {
   "cell_type": "code",
   "execution_count": null,
   "metadata": {},
   "outputs": [],
   "source": [
    "for i in range(4):\n",
    "    print()\n",
    "    for x in range(2):\n",
    "        print(\"\".join([\"▣\" if transform_hole([0,0],i,\"L\") != [x,y] else \" \" for y in range(-1,1)]))"
   ]
  },
  {
   "cell_type": "code",
   "execution_count": null,
   "metadata": {},
   "outputs": [],
   "source": [
    "L = block(\"L\",2,2,2,[[1,0]],0)\n",
    "R = block(\"R\",2,1,2,[[1,0]],0)\n",
    "\n",
    "pieces = [L, R]\n",
    "new_list = sorted([[piece.area(), piece] for piece in pieces],reverse=True)\n",
    "print(new_list)"
   ]
  },
  {
   "cell_type": "code",
   "execution_count": null,
   "metadata": {},
   "outputs": [],
   "source": [
    "setup()"
   ]
  },
  {
   "cell_type": "code",
   "execution_count": null,
   "metadata": {},
   "outputs": [],
   "source": [
    "L.piece"
   ]
  },
  {
   "cell_type": "code",
   "execution_count": null,
   "metadata": {},
   "outputs": [],
   "source": [
    "main = game_board()"
   ]
  },
  {
   "cell_type": "code",
   "execution_count": null,
   "metadata": {},
   "outputs": [],
   "source": [
    "print(main)"
   ]
  },
  {
   "cell_type": "code",
   "execution_count": null,
   "metadata": {},
   "outputs": [],
   "source": [
    "main.place_block(2,2,2,2,'f', hole=[(0,1)])"
   ]
  },
  {
   "cell_type": "code",
   "execution_count": null,
   "metadata": {},
   "outputs": [],
   "source": [
    "main.check_fit(1,1,2,2)"
   ]
  },
  {
   "cell_type": "code",
   "execution_count": null,
   "metadata": {},
   "outputs": [],
   "source": [
    "HEX = {'r':'FF0000', 'g':'00FF00', 'b':'0000FF', 'y':'FFFF00', 'o':'FF8800', 'p':'CC00FF'}\n",
    "name = {'r':'RED', 'g':'GREEN', 'b':'BLUE', 'y':'YELLOW', 'o':'ORANGE', 'p':'PURPLE'}\n",
    "COLORS = ['r','o','y','g','b','p']\n",
    "\n",
    "if True:\n",
    "    d = dict()\n",
    "    for color in COLORS:\n",
    "        d[color] = [HEX[color],name[color]]\n",
    "    print(d)"
   ]
  },
  {
   "cell_type": "code",
   "execution_count": null,
   "metadata": {},
   "outputs": [],
   "source": [
    "l = [1,2,3,4]\n",
    "\n",
    "s = int(len(l)**0.5)\n",
    "a = [l[i*s:i*s+2] for i in range(s)]\n",
    "\n",
    "print(a)"
   ]
  },
  {
   "cell_type": "code",
   "execution_count": null,
   "metadata": {},
   "outputs": [],
   "source": [
    "l = []\n",
    "l+=[1]*4\n",
    "l"
   ]
  },
  {
   "cell_type": "code",
   "execution_count": null,
   "metadata": {},
   "outputs": [],
   "source": [
    "def draw(l):\n",
    "    size = len(l)\n",
    "    s = \"\"\n",
    "    s+=\"-\"*(4*size+1)\n",
    "    s+=\"\\n\"\n",
    "    for i in range(size):\n",
    "        s+=\"|\"\n",
    "        for j in range(size):\n",
    "            s+=\" \"\n",
    "            s+=str(l[i][j])\n",
    "            s+=\" |\"\n",
    "        s+=\"\\n\"\n",
    "        s+=\"-\"*(4*size+1)\n",
    "        s+=\"\\n\"\n",
    "    return s\n",
    "\n",
    "print(draw([[1,2,3],[4,5,6],[7,8,9]]))"
   ]
  },
  {
   "cell_type": "code",
   "execution_count": null,
   "metadata": {},
   "outputs": [],
   "source": [
    "int('0F',base=16)"
   ]
  },
  {
   "cell_type": "code",
   "execution_count": null,
   "metadata": {},
   "outputs": [],
   "source": [
    "def hex_to_dec(HEX):\n",
    "    r = int(HEX[0:2],base=16)\n",
    "    g = int(HEX[2:4],base=16)\n",
    "    b = int(HEX[4:6],base=16)\n",
    "    return r,g,b\n",
    "\n",
    "type(hex_to_dec('FF00FF'))"
   ]
  },
  {
   "cell_type": "code",
   "execution_count": null,
   "metadata": {},
   "outputs": [],
   "source": [
    "l = [1,2,3]\n",
    "\n",
    "a = l\n",
    "a.remove(1)\n",
    "print(a,l)\n",
    "\n",
    "l = [1,2,3]\n",
    "\n",
    "a = list(l)\n",
    "a.remove(1)\n",
    "print(a,l)\n",
    "\n"
   ]
  },
  {
   "cell_type": "code",
   "execution_count": 1,
   "metadata": {},
   "outputs": [
    {
     "name": "stdout",
     "output_type": "stream",
     "text": [
      "{'r': [(51, 115, 219), 'RED'], 'o': [(255, 140, 26), 'ORANGE'], 'y': [(255, 204, 51), 'YELLOW'], 'g': [(44, 207, 35), 'GREEN'], 'm': [(156, 244, 223), 'MINT'], 'b': [(229, 26, 26), 'BLUE'], 'w': [(183, 9, 105), 'WINE'], 'v': [(102, 45, 145), 'PURPLE'], 'p': [(255, 179, 179), 'PINK']}\n"
     ]
    }
   ],
   "source": [
    "INFOS = {\n",
    "        'r': ['3373DB', 'RED'],\n",
    "        'o': ['FF8C1A', 'ORANGE'],\n",
    "        'y': ['FFCC33', 'YELLOW'],\n",
    "        'g': ['2CCF23','GREEN'],\n",
    "        'm': ['9CF4DF','MINT'],\n",
    "        'b': ['E51A1A', 'BLUE'],\n",
    "        'w': ['B70969','WINE'],\n",
    "        'v': ['662D91','PURPLE'],\n",
    "        'p': ['FFB3B3', 'PINK']\n",
    "        }\n",
    "\n",
    "def hex_to_dec(HEX):\n",
    "    r = int(HEX[0:2],base=16)\n",
    "    g = int(HEX[2:4],base=16)\n",
    "    b = int(HEX[4:6],base=16)\n",
    "    return r,g,b\n",
    "\n",
    "d = dict()\n",
    "\n",
    "for keys,values in INFOS.items():\n",
    "    d[keys] = [hex_to_dec(values[0]),values[1]]\n",
    "\n",
    "print(d)"
   ]
  },
  {
   "cell_type": "code",
   "execution_count": 1,
   "metadata": {},
   "outputs": [
    {
     "data": {
      "text/plain": [
       "662.7272727272727"
      ]
     },
     "execution_count": 1,
     "metadata": {},
     "output_type": "execute_result"
    }
   ],
   "source": [
    "24.3/22*600"
   ]
  }
 ],
 "metadata": {
  "kernelspec": {
   "display_name": "base",
   "language": "python",
   "name": "python3"
  },
  "language_info": {
   "codemirror_mode": {
    "name": "ipython",
    "version": 3
   },
   "file_extension": ".py",
   "mimetype": "text/x-python",
   "name": "python",
   "nbconvert_exporter": "python",
   "pygments_lexer": "ipython3",
   "version": "3.9.13"
  },
  "orig_nbformat": 4
 },
 "nbformat": 4,
 "nbformat_minor": 2
}
