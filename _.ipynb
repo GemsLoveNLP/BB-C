{
 "cells": [
  {
   "cell_type": "code",
   "execution_count": 22,
   "metadata": {},
   "outputs": [],
   "source": [
    "import numpy as np\n",
    "\n",
    "#? Note: from top left\n",
    "\n",
    "def draw(l):\n",
    "    size = len(l)\n",
    "    s = \"\"\n",
    "    s+=\"-\"*(4*size+1)\n",
    "    s+=\"\\n\"\n",
    "    for i in range(size):\n",
    "        s+=\"|\"\n",
    "        for j in range(size):\n",
    "            s+=\" \"\n",
    "            s+=str(l[i][j])\n",
    "            s+=\" |\"\n",
    "        s+=\"\\n\"\n",
    "        s+=\"-\"*(4*size+1)\n",
    "        s+=\"\\n\"\n",
    "    return s\n",
    "\n",
    "class slot:\n",
    "    def __init__(self, piece='d'):\n",
    "        self.piece = piece  \n",
    "\n",
    "    def change_piece(self, new_piece):\n",
    "        self.piece = new_piece\n",
    "\n",
    "def generate_board(board_size):\n",
    "    board = []\n",
    "    for i in range(board_size):\n",
    "        board.append([slot() for i in range(board_size)])\n",
    "    return board\n",
    "\n",
    "def transform(array):\n",
    "    l = []\n",
    "    for i in array:\n",
    "        temp = []\n",
    "        for j in i:\n",
    "            temp.append(slot(j))\n",
    "        l.append(temp)\n",
    "    return np.array(l)\n",
    "\n",
    "class board:\n",
    "    def __init__(self, auto=True, array=np.array([]), size=4):\n",
    "        if not auto:\n",
    "            self.board = transform(array)\n",
    "        else:\n",
    "            self.board = generate_board(size)\n",
    "        self.size=size\n",
    "\n",
    "    def __str__(self):\n",
    "        view = []\n",
    "        for row in self.board:\n",
    "            temp = []\n",
    "            for obj in row:\n",
    "                temp.append(obj.piece)\n",
    "            view.append(temp)\n",
    "        return draw(view)\n",
    "    \n",
    "    def set_piece(self, row, col, piece):\n",
    "        self.board[row][col].change_piece(piece)\n",
    "\n",
    "    def place_piece(self, height, width, row, col, piece):\n",
    "        for y in range(height):\n",
    "            for x in range(width):\n",
    "                self.board.set_piece(row+y,col+x,piece)\n",
    "\n",
    "        "
   ]
  },
  {
   "cell_type": "code",
   "execution_count": 23,
   "metadata": {},
   "outputs": [],
   "source": [
    "main = board()"
   ]
  },
  {
   "cell_type": "code",
   "execution_count": 24,
   "metadata": {},
   "outputs": [
    {
     "name": "stdout",
     "output_type": "stream",
     "text": [
      "-----------------\n",
      "| d | d | d | d |\n",
      "-----------------\n",
      "| d | d | d | d |\n",
      "-----------------\n",
      "| d | d | d | d |\n",
      "-----------------\n",
      "| d | d | d | d |\n",
      "-----------------\n",
      "\n"
     ]
    }
   ],
   "source": [
    "print(main)"
   ]
  },
  {
   "cell_type": "code",
   "execution_count": 25,
   "metadata": {},
   "outputs": [],
   "source": [
    "main.set_piece(0,1,'g')"
   ]
  },
  {
   "cell_type": "code",
   "execution_count": 26,
   "metadata": {},
   "outputs": [],
   "source": [
    "test = board(auto=False, array=np.array([[1,1,2,3],[1,2,8,4],[1,5,8,6],[0,7,2,4]]))"
   ]
  },
  {
   "cell_type": "code",
   "execution_count": 27,
   "metadata": {},
   "outputs": [
    {
     "name": "stdout",
     "output_type": "stream",
     "text": [
      "-----------------\n",
      "| 1 | 1 | 2 | 3 |\n",
      "-----------------\n",
      "| 1 | 2 | 8 | 4 |\n",
      "-----------------\n",
      "| 1 | 5 | 8 | 6 |\n",
      "-----------------\n",
      "| 0 | 7 | 2 | 4 |\n",
      "-----------------\n",
      "\n"
     ]
    }
   ],
   "source": [
    "print(test)"
   ]
  }
 ],
 "metadata": {
  "kernelspec": {
   "display_name": "base",
   "language": "python",
   "name": "python3"
  },
  "language_info": {
   "codemirror_mode": {
    "name": "ipython",
    "version": 3
   },
   "file_extension": ".py",
   "mimetype": "text/x-python",
   "name": "python",
   "nbconvert_exporter": "python",
   "pygments_lexer": "ipython3",
   "version": "3.9.13"
  },
  "orig_nbformat": 4
 },
 "nbformat": 4,
 "nbformat_minor": 2
}
